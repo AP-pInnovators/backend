{
 "cells": [
  {
   "cell_type": "markdown",
   "metadata": {},
   "source": [
    "This only works to make requests to the server running on your own machine and display the resulting JSON"
   ]
  },
  {
   "cell_type": "code",
   "execution_count": 1,
   "metadata": {},
   "outputs": [],
   "source": [
    "import requests\n",
    "beginning = \"http://127.0.0.1:8000/api/\""
   ]
  },
  {
   "cell_type": "markdown",
   "metadata": {},
   "source": [
    "api/test"
   ]
  },
  {
   "cell_type": "code",
   "execution_count": 2,
   "metadata": {},
   "outputs": [
    {
     "name": "stdout",
     "output_type": "stream",
     "text": [
      "{'greeting': 'Hello world'}\n"
     ]
    }
   ],
   "source": [
    "response = requests.get(beginning + \"test\")\n",
    "print(response.json())"
   ]
  },
  {
   "cell_type": "markdown",
   "metadata": {},
   "source": [
    "api/signup"
   ]
  },
  {
   "cell_type": "code",
   "execution_count": 2,
   "metadata": {},
   "outputs": [
    {
     "name": "stdout",
     "output_type": "stream",
     "text": [
      "{'success': True, 'session_token': 'placeholder'}\n"
     ]
    }
   ],
   "source": [
    "config = False #set to true if you want to sign up with specific user/email/pass, false if you just need a test account\n",
    "if config:\n",
    "    response = requests.post(beginning + \"signup\", json={\n",
    "        \"username\":input(\"username value\"),\n",
    "        \"email\":input(\"email value\"),\n",
    "        \"password\":input(\"password value\")})\n",
    "else:\n",
    "    response = requests.post(beginning + \"signup\", json={\n",
    "        \"username\":\"test\",\n",
    "        \"email\":\"test@email.com\",\n",
    "        \"password\":\"password\"})\n",
    "print(response.json())"
   ]
  },
  {
   "cell_type": "markdown",
   "metadata": {},
   "source": [
    "api/login"
   ]
  },
  {
   "cell_type": "code",
   "execution_count": 40,
   "metadata": {},
   "outputs": [
    {
     "name": "stdout",
     "output_type": "stream",
     "text": [
      "{'success': True, 'session_token': 'placeholder'}\n"
     ]
    }
   ],
   "source": [
    "response = requests.post(beginning + \"login\", json={\n",
    "    \"username\":input(\"username value\"),\n",
    "    \"password\":input(\"password value\")})\n",
    "print(response.json())"
   ]
  },
  {
   "cell_type": "markdown",
   "metadata": {},
   "source": [
    "api/add_question"
   ]
  },
  {
   "cell_type": "code",
   "execution_count": 14,
   "metadata": {},
   "outputs": [
    {
     "name": "stdout",
     "output_type": "stream",
     "text": [
      "{'success': False, 'error_code': 'placeholder', 'error_message': 'Question failed to be added'}\n"
     ]
    }
   ],
   "source": [
    "response = requests.post(beginning + \"add_question\", json={\n",
    "    \"content\" : \"What is 1+3\",\n",
    "    \"difficulty\" : 1,\n",
    "    \"answers\" : [\n",
    "                {\"content\" : \"1\", \"correct\" : False},\n",
    "                {\"content\" : \"2\", \"correct\" : False},\n",
    "                {\"content\" : \"3\", \"correct\" : False},\n",
    "                {\"content\" : \"4\", \"correct\" : True}\n",
    "                ],\n",
    "    \"solutions\" : [\n",
    "                {\"content\" : \"Add 1 to 3\"},\n",
    "                {\"content\" : \"Add 3 to 1\"}\n",
    "                ]\n",
    "})\n",
    "print(response.json())"
   ]
  },
  {
   "cell_type": "markdown",
   "metadata": {},
   "source": [
    "api/question/{question_id}"
   ]
  },
  {
   "cell_type": "code",
   "execution_count": 46,
   "metadata": {},
   "outputs": [
    {
     "name": "stdout",
     "output_type": "stream",
     "text": [
      "{'success': True, 'content': 'What is 1+3'}\n"
     ]
    }
   ],
   "source": [
    "question_id = input(\"Input question id: \")\n",
    "response = requests.get(beginning + \"question/\" + question_id)\n",
    "print(response.json())"
   ]
  }
 ],
 "metadata": {
  "kernelspec": {
   "display_name": ".venv",
   "language": "python",
   "name": "python3"
  },
  "language_info": {
   "codemirror_mode": {
    "name": "ipython",
    "version": 3
   },
   "file_extension": ".py",
   "mimetype": "text/x-python",
   "name": "python",
   "nbconvert_exporter": "python",
   "pygments_lexer": "ipython3",
   "version": "3.11.2"
  }
 },
 "nbformat": 4,
 "nbformat_minor": 2
}
